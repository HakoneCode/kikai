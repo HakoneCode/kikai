{
  "cells": [
    {
      "cell_type": "markdown",
      "metadata": {
        "id": "O_IVzdVrTz0I"
      },
      "source": [
        "# データ数、データを可視化して分析  \n",
        "コンテストページからダウンロードしたデータがどのようなデータであるのか、またどのようなデータで数はどの程度あるのかを確認します。  \n",
        "これにより、以下を行います。\n",
        "* 画像を見て、その画像が欠陥である確率値を予測  \n",
        "* 学習の工夫に対する思考  \n",
        "\n",
        "    \n",
        "  "
      ]
    },
    {
      "cell_type": "markdown",
      "source": [
        "### ライブラリのインポート"
      ],
      "metadata": {
        "id": "MZ1LUtx6T1q8"
      }
    },
    {
      "cell_type": "code",
      "execution_count": 1,
      "metadata": {
        "id": "uWwmO07rGa5N"
      },
      "outputs": [],
      "source": [
        "from google.colab import drive\n",
        "import os\n",
        "import math\n",
        "import random\n",
        "from glob import glob\n",
        "import cv2\n",
        "import pandas as pd\n",
        "from tqdm.notebook import tqdm\n",
        "import numpy as np\n",
        "import matplotlib.pyplot as plt\n",
        "%matplotlib inline"
      ]
    },
    {
      "cell_type": "code",
      "execution_count": null,
      "metadata": {
        "id": "ZcccX9xEHzWN"
      },
      "outputs": [],
      "source": [
        "# GoogleDriveのマウント\n",
        "drive.mount('/content/drive')\n",
        "WorkDir=\"/content/drive/MyDrive/industry_defect_detection\"\n",
        "%cd {WorkDir}"
      ]
    },
    {
      "cell_type": "markdown",
      "source": [
        "データ数の確認"
      ],
      "metadata": {
        "id": "SHK4z_OiVe2s"
      }
    },
    {
      "cell_type": "code",
      "execution_count": null,
      "metadata": {
        "id": "aRu1w-jpJZml"
      },
      "outputs": [],
      "source": [
        "df_train = pd.read_table(\"train_annotations.tsv\", index_col=0)\n",
        "df_train_normal = df_train[df_train.label == 0]  # 正常画像\n",
        "df_train_abnormal = df_train[df_train.label == 1]  # 異常画像\n",
        "print(f\"正常画像: {len(df_train_normal)}, 異常画像: {len(df_train_abnormal)}, 合計: {len(df_train)}\")\n",
        "images_test = sorted(glob(\"test/*.png\"))\n",
        "print(f\"テスト画像: {len(images_test)}\")\n",
        "print(f\"学習画像: {len(sorted(glob('train/*.png')))}\")"
      ]
    },
    {
      "cell_type": "markdown",
      "source": [
        "データの分布をヒストグラムを使用して可視化"
      ],
      "metadata": {
        "id": "Rqq0oLQNVrdW"
      }
    },
    {
      "cell_type": "code",
      "execution_count": null,
      "metadata": {
        "id": "atQqpobiS4vb"
      },
      "outputs": [],
      "source": [
        "fig = plt.figure(figsize=(12, 4))\n",
        "\n",
        "# 正常画像のヒストグラム（パターン）\n",
        "ax = fig.add_subplot(1, 2, 1)\n",
        "df_train_normal.pattern.hist()\n",
        "ax.set_title(f\"Train: Normal\")\n",
        "\n",
        "# 異常画像のヒストグラム（パターン）\n",
        "ax = fig.add_subplot(1, 2, 2)\n",
        "df_train_abnormal.pattern.hist()\n",
        "ax.set_title(f\"Train: Abnormal\")"
      ]
    },
    {
      "cell_type": "markdown",
      "source": [
        "データの確認  \n",
        "※ 画像の有無がFalseになっている場合、画像データの解凍(UNZIP)後GoogleDriveとの同期がうまく行っていない場合があります。  \n",
        "画像データの解凍のからやり直しをお勧めします。  \n",
        "『 MlCompe2023_データアップロード_データ準備.ipynb』のファイルアップロード以外をすべて実行。  \n",
        "同期が完了するまで、画面を閉じずに放置(30分程度)"
      ],
      "metadata": {
        "id": "xQ9pLelnWtDG"
      }
    },
    {
      "cell_type": "code",
      "execution_count": null,
      "metadata": {
        "id": "_3d5afSZJ3f3"
      },
      "outputs": [],
      "source": [
        "fig = plt.figure(figsize=(12, 4))\n",
        "\n",
        "# 正常画像の可視化\n",
        "sampled_normal = df_train_normal.sample().iloc[0]\n",
        "image_path = WorkDir + f\"/train/{sampled_normal.name}.png\"\n",
        "print(\"正常画像サンプル： \" + image_path)\n",
        "print(\"画像の有無： \" + str(os.path.exists(image_path)))\n",
        "image_normal = cv2.imread(image_path)\n",
        "\n",
        "ax = fig.add_subplot(1, 3, 1)\n",
        "plt.imshow(image_normal)\n",
        "ax.set_title(f\"Train: Normal (Pattern {sampled_normal.pattern})\")\n",
        "\n",
        "# 異常画像の可視化\n",
        "sampled_abnormal = df_train_abnormal.sample().iloc[0]\n",
        "image_path = WorkDir + f\"/train/{sampled_abnormal.name}.png\"\n",
        "print(\"異常画像サンプル： \" + image_path)\n",
        "print(\"画像の有無： \" + str(os.path.exists(image_path)))\n",
        "image_abnormal = cv2.imread(image_path)\n",
        "box = (\n",
        "    [\n",
        "        float(sampled_abnormal.x_position),\n",
        "        float(sampled_abnormal.y_position)\n",
        "    ],\n",
        "    [\n",
        "        round(float(sampled_abnormal.semi_major_axis) * 2),\n",
        "        round(float(sampled_abnormal.semi_minor_axis) * 2)\n",
        "    ],\n",
        "    math.degrees(float(sampled_abnormal.rotation_angle))\n",
        ")\n",
        "image_abnormal = cv2.ellipse(image_abnormal, box, color=(0, 0, 255), thickness=2, lineType=cv2.LINE_8)\n",
        "ax = fig.add_subplot(1, 3, 2)\n",
        "plt.imshow(image_abnormal)\n",
        "ax.set_title(f\"Train: Abnormal (Pattern {sampled_abnormal.pattern})\")\n",
        "\n",
        "# テスト画像の可視化\n",
        "image_test = cv2.imread(random.choice(images_test))\n",
        "ax = fig.add_subplot(1, 3, 3)\n",
        "plt.imshow(image_test)\n",
        "ax.set_title(\"Test\")\n",
        "\n"
      ]
    },
    {
      "cell_type": "markdown",
      "source": [
        "学習を安定的に行うために、学習で使用する画像の画素値の平均と標準偏差を求めておきます。  \n",
        "画像の正規化時に演算結果を使用します。"
      ],
      "metadata": {
        "id": "-vM_ZnwaLUEy"
      }
    },
    {
      "cell_type": "code",
      "execution_count": null,
      "metadata": {
        "id": "GNSs3L4xh35B"
      },
      "outputs": [],
      "source": [
        "# 画素値の平均と標準偏差を求める\n",
        "\n",
        "paths = sorted(df_train.index.tolist())\n",
        "\n",
        "psum = np.zeros((3, ), dtype=np.float32)\n",
        "psum_sq = np.zeros((3, ), dtype=np.float32)\n",
        "count = 0\n",
        "for path in tqdm(paths):\n",
        "    img = cv2.imread(f\"train/{path}.png\").astype(np.float32)[..., ::-1]\n",
        "    psum += img.sum(axis=0).sum(axis=0)\n",
        "    psum_sq += (img ** 2).sum(axis=0).sum(axis=0)\n",
        "    count += img.shape[0] * img.shape[1]\n",
        "\n",
        "total_mean = psum / count\n",
        "total_var  = (psum_sq / count) - (total_mean ** 2)\n",
        "total_std  = np.sqrt(total_var)\n",
        "\n",
        "print(f\"mean: {total_mean}, std: {total_std}\")\n"
      ]
    },
    {
      "cell_type": "markdown",
      "source": [
        "データ数、データの分布を可視化、データの確認をすることで、扱うデータがどのようなものなのかが分かります。  \n",
        "\n",
        "* 学習用画像には、以下の教師データが存在。\n",
        "\n",
        "  * 正常・欠陥に共通\n",
        "\n",
        "    * 欠陥である確率 (0, 1 の2値)\n",
        "\n",
        "    * 画像パターン (A, B, C, D の4パターン)\n",
        "\n",
        "  * 欠陥画像のみ、欠陥箇所（楕円表示）に関する教師データが存在\n",
        "\n",
        "    * semi_major_axis: 欠陥の半長軸\n",
        "\n",
        "    * semi_minor_axis: 欠陥の半短軸\n",
        "\n",
        "    * rotation_angle: 欠陥の回転角（ラジアン）\n",
        "\n",
        "    * x_position: 欠陥の楕円体の中心のx座標\n",
        "\n",
        "    * y_position: 欠陥の楕円体の中心のy座標"
      ],
      "metadata": {
        "id": "5ASUT7KJV3_d"
      }
    }
  ],
  "metadata": {
    "colab": {
      "provenance": []
    },
    "kernelspec": {
      "display_name": "Python 3",
      "name": "python3"
    },
    "language_info": {
      "name": "python"
    }
  },
  "nbformat": 4,
  "nbformat_minor": 0
}