{
  "nbformat": 4,
  "nbformat_minor": 0,
  "metadata": {
    "colab": {
      "provenance": []
    },
    "kernelspec": {
      "name": "python3",
      "display_name": "Python 3"
    },
    "language_info": {
      "name": "python"
    }
  },
  "cells": [
    {
      "cell_type": "markdown",
      "source": [
        "# 学習データ、テストデータなどをGoogleDriveへアップロード  \n",
        "SIGNATEコンテストページから以下のファイルをダウンロードし、  \n",
        "google drive 上の任意のフォルダに配置する方法について説明します。  \n",
        "\n",
        "※ そのフォルダを **WorkDir** とします。  \n",
        "（本チュートリアルでは『/content/drive/MyDrive/industry_defect_detection』としています。）\n",
        "\n",
        "| ファイル名 | 説明 | 容量 |\n",
        "| --- | --- | --- |\n",
        "| train_images.zip | 学習用画像データ | 850.39 MB |\n",
        "| train_annotations.tsv |  学習用画像データのアノテーション | 108.9 KB |\n",
        "| test_images.zip | 評価用画像データ | 453.5 MB |\n",
        "| sample_submit.tsv | 投稿用サンプルファイル | 29.2 KB |"
      ],
      "metadata": {
        "id": "_MledoR09uvI"
      }
    },
    {
      "cell_type": "code",
      "execution_count": null,
      "metadata": {
        "id": "uWwmO07rGa5N"
      },
      "outputs": [],
      "source": [
        "WorkDir=\"/content/drive/MyDrive/industry_defect_detection\"\n",
        "\n",
        "# フォルダ作成\n",
        "!mkdir \"/content/drive/MyDrive/industry_defect_detection\""
      ]
    },
    {
      "cell_type": "markdown",
      "source": [
        "※ train_image.zip、test_image.zipのアップロード時間はそれぞれ40分程度かかる場合があります。  \n",
        "　 GoogleDriveへ直接アップロードすると時間短縮が可能です。"
      ],
      "metadata": {
        "id": "J_zvjeeQKF1W"
      }
    },
    {
      "cell_type": "code",
      "source": [
        "# ファイルをアップロード\n",
        "from google.colab import files\n",
        "uploaded = files.upload()"
      ],
      "metadata": {
        "id": "9yGYjTkkHPzz"
      },
      "execution_count": null,
      "outputs": []
    },
    {
      "cell_type": "code",
      "source": [
        "# GoogleDriveのマウント\n",
        "from google.colab import drive\n",
        "drive.mount('/content/drive')\n",
        "%cd {WorkDir}"
      ],
      "metadata": {
        "id": "bhbs6HqDGE1m"
      },
      "execution_count": null,
      "outputs": []
    },
    {
      "cell_type": "markdown",
      "source": [
        "GoogleColabとGoogleDrive の同期に\n",
        "ファイルアップロード後、30分程時間がかかる場合があります。  \n",
        "同期が完了するまで放置してください。  \n",
        "※ 同期が完了せずに「データの解凍」を実行すると以下のようなメッセージが出力されます。    \n",
        "> unzip:  cannot find or open train_images.zip, train_images.zip.zip or train_images.zip.ZIP.  \n",
        "> unzip:  cannot find or open test_images.zip, test_images.zip.zip or test_images.zip.ZIP.  \n",
        "\n",
        "ファイルを解凍すると **WorkDir**配下の「train」「test」へPNGイメージファイルが展開されます。"
      ],
      "metadata": {
        "id": "S-ZprSATLAZn"
      }
    },
    {
      "cell_type": "code",
      "source": [
        "# 1回目のみ　「学習データの解凍」\n",
        "!unzip train_images.zip  # 4600枚"
      ],
      "metadata": {
        "id": "Oi7oT35JMvYI"
      },
      "execution_count": null,
      "outputs": []
    },
    {
      "cell_type": "code",
      "source": [
        "# 1回目のみ　「テストデータの解凍」\n",
        "!unzip test_images.zip  # 2300枚\n",
        "# !rm train_images.zip\n",
        "# !rm test_images.zip"
      ],
      "metadata": {
        "id": "GYWIWwbqII2F"
      },
      "execution_count": null,
      "outputs": []
    },
    {
      "cell_type": "code",
      "source": [],
      "metadata": {
        "id": "m3MNb4fDL4Ud"
      },
      "execution_count": null,
      "outputs": []
    }
  ]
}